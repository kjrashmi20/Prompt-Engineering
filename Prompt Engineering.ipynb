{
 "cells": [
  {
   "cell_type": "code",
   "execution_count": null,
   "metadata": {},
   "outputs": [],
   "source": [
    "import os\n",
    "os.environ[\"OPENAI_API_KEY\"] = \"\"\n",
    "\n",
    "from langchain import PromptTemplate\n",
    "demo_template = 'Explain in detail about {networking_technologies} and how it is progressing'\n",
    "\n",
    "prompt = PromptTemplate(input_variables=['networking_technologies'],template=demo_template)\n",
    "\n",
    "prompt.format(networking_technologies = 'SDWAN')\n",
    "\n",
    "from langchain import OpenAI\n",
    "from langchain.chains import LLMChain\n",
    "llm = OpenAI(temperature=0.7)\n",
    "chain1 = LLMChain(llm=llm,prompt=prompt)\n",
    "\n",
    "chain1.run()\n",
    "\n",
    "## Language Translation\n",
    "\n",
    "template = 'Translate {sentence} in {langauage}'\n",
    "language_prompt = PromptTemplate(input_variables=['sentence','language'],template=template)\n",
    "language_prompt.format(sentence = 'How are you',language = 'Kannada')\n",
    "chain2 = LLMChain(llm=llm,prompt=language_prompt)\n",
    "\n",
    "chain2({'sentence':'How are you','language':'Kannada'})\n",
    "\n",
    "from langchain import FewShotPromptTemplate\n",
    "# First, create the list of few shot examples.\n",
    "examples = [{'word':'Tall','antonym': 'Short'},{'word': 'Up','antonym': 'Down'}]\n",
    "\n",
    "# Next, we specify the template to format the examples we have provided.\n",
    "# We use the `PromptTemplate` class for this.\n",
    "example_template = \"Word:{word} and its Antonym is {antonym}\"\n",
    "example_prompt = PromptTemplate(input_variables=['word','antonym'],template=example_template)\n",
    "\n",
    "# We create the `FewShotPromptTemplate` object.\n",
    "few_short_prompt = FewShotPromptTemplate(examples=examples,example_prompt=example_prompt,prefix=\"Give antonym of every input\\n\",suffix=\"Word:{input}\\nAntonym: \",input_variables=['input'],example_separator='\\n')\n",
    "print(few_short_prompt.format(input = 'big'))\n",
    "\n",
    "chain=LLMChain(llm=llm,prompt=few_short_prompt)\n",
    "chain({'input':\"big\"})\n",
    "                                        \n",
    "\n"
   ]
  }
 ],
 "metadata": {
  "kernelspec": {
   "display_name": "Python 3",
   "language": "python",
   "name": "python3"
  },
  "language_info": {
   "codemirror_mode": {
    "name": "ipython",
    "version": 3
   },
   "file_extension": ".py",
   "mimetype": "text/x-python",
   "name": "python",
   "nbconvert_exporter": "python",
   "pygments_lexer": "ipython3",
   "version": "3.11.4"
  },
  "orig_nbformat": 4
 },
 "nbformat": 4,
 "nbformat_minor": 2
}
